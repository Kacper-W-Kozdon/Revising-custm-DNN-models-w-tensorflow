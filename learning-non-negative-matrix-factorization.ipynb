{
 "cells": [
  {
   "cell_type": "code",
   "execution_count": 1,
   "id": "c30d6c90",
   "metadata": {
    "_cell_guid": "b1076dfc-b9ad-4769-8c92-a6c4dae69d19",
    "_uuid": "8f2839f25d086af736a60e9eeb907d3b93b6e0e5",
    "execution": {
     "iopub.execute_input": "2023-11-11T15:31:58.816165Z",
     "iopub.status.busy": "2023-11-11T15:31:58.815704Z",
     "iopub.status.idle": "2023-11-11T15:32:12.959775Z",
     "shell.execute_reply": "2023-11-11T15:32:12.958628Z"
    },
    "papermill": {
     "duration": 14.151902,
     "end_time": "2023-11-11T15:32:12.962684",
     "exception": false,
     "start_time": "2023-11-11T15:31:58.810782",
     "status": "completed"
    },
    "tags": []
   },
   "outputs": [],
   "source": [
    "# This Python 3 environment comes with many helpful analytics libraries installed\n",
    "# It is defined by the kaggle/python Docker image: https://github.com/kaggle/docker-python\n",
    "# For example, here's several helpful packages to load\n",
    "\n",
    "import numpy as np # linear algebra\n",
    "import pandas as pd # data processing, CSV file I/O (e.g. pd.read_csv)\n",
    "import tensorflow as tf\n",
    "import matplotlib.pyplot as plt\n",
    "from tensorflow.keras import layers\n",
    "from tensorflow.keras.losses import Loss\n",
    "from tensorflow.keras.optimizers import Optimizer\n",
    "import keras\n",
    "import math\n",
    "import graphviz \n",
    "import sklearn\n",
    "import copy\n",
    "\n",
    "# Input data files are available in the read-only \"../input/\" directory\n",
    "# For example, running this (by clicking run or pressing Shift+Enter) will list all files under the input directory\n",
    "\n",
    "import os\n",
    "for dirname, _, filenames in os.walk('/kaggle/input'):\n",
    "    for filename in filenames:\n",
    "        print(os.path.join(dirname, filename))\n",
    "\n",
    "# You can write up to 20GB to the current directory (/kaggle/working/) that gets preserved as output when you create a version using \"Save & Run All\" \n",
    "# You can also write temporary files to /kaggle/temp/, but they won't be saved outside of the current session"
   ]
  },
  {
   "cell_type": "code",
   "execution_count": 2,
   "id": "b8efee73",
   "metadata": {
    "execution": {
     "iopub.execute_input": "2023-11-11T15:32:12.969902Z",
     "iopub.status.busy": "2023-11-11T15:32:12.969256Z",
     "iopub.status.idle": "2023-11-11T15:32:13.063521Z",
     "shell.execute_reply": "2023-11-11T15:32:13.062344Z"
    },
    "papermill": {
     "duration": 0.101476,
     "end_time": "2023-11-11T15:32:13.066463",
     "exception": false,
     "start_time": "2023-11-11T15:32:12.964987",
     "status": "completed"
    },
    "tags": []
   },
   "outputs": [],
   "source": [
    "class DNMFLoss(Loss):\n",
    "    def call(self, y_true, y_pred):\n",
    "                                \n",
    "        return tf.reduce_mean(tf.math.square(y_pred - y_true), axis = -1) #Mean Square Error for now.\n",
    "\n",
    "class DNMFOptimizer(Optimizer): #Preparing working space.\n",
    "    \n",
    "    def build(self, var_list):\n",
    "        super().build(var_list)\n",
    "    def update_step(self):\n",
    "        pass\n",
    "    def get_config(self):\n",
    "        config = super().get_config()\n",
    "        \n",
    "        return config\n",
    "    \n",
    "    def __call__(self, loss, var_list, tape = None):\n",
    "        minimize(loss = loss, var_list = var_list, tape = tape)\n",
    "    \n",
    "class DNMF(tf.Module): #It's just a Multilayer Perceptron for now.\n",
    "    def __init__(self, input_size, sizes, name = None):\n",
    "        super().__init__(name = name)\n",
    "        self.layers = []\n",
    "        with self.name_scope:\n",
    "            for size in sizes:\n",
    "                self.layers.append(Dense(input_dim = input_size, output_size = size))\n",
    "                input_size = size\n",
    "    @tf.Module.with_name_scope\n",
    "    def __call__(self, x):\n",
    "        for layer in self.layers:\n",
    "            x = layer(x)\n",
    "        return x\n",
    "       \n",
    "input_size = 1\n",
    "sizes = []\n",
    "loss_object = DNMFLoss()\n",
    "optimizer = DNMFOptimizer(input_size, sizes)\n",
    "        \n",
    "def loss(model, x, y, training):\n",
    "    y_ = model(x, training = training)\n",
    "    \n",
    "    return loss_object(y_true = y, y_pred = y_)\n",
    "        \n",
    "def grad(model, inputs, targets):\n",
    "    with tf.GradientTape() as tape:\n",
    "        loss_value = loss(model, inputs, targets, training = True)\n",
    "    return loss_value, tape.gradient(loss_value, model.trainable_variables)\n",
    "        \n",
    "def optimization_step():\n",
    "    loss_value, grads = grad(model, features, labels)\n",
    "    print(\"Step: {}, Initial Loss: {}\".format(optimizer.iterations.numpy(), loss_value.numpy()))\n",
    "    \n",
    "    optimizer.apply_gradients(zip(grads, model.trainable_variables))\n",
    "    print(\"Step: {}, Loss: {}\".format(optimizer.iterations.numpy(), loss(model, features, labels, training = True).numpy()))"
   ]
  }
 ],
 "metadata": {
  "kernelspec": {
   "display_name": "Python 3",
   "language": "python",
   "name": "python3"
  },
  "language_info": {
   "codemirror_mode": {
    "name": "ipython",
    "version": 3
   },
   "file_extension": ".py",
   "mimetype": "text/x-python",
   "name": "python",
   "nbconvert_exporter": "python",
   "pygments_lexer": "ipython3",
   "version": "3.10.12"
  },
  "papermill": {
   "default_parameters": {},
   "duration": 18.994328,
   "end_time": "2023-11-11T15:32:14.492416",
   "environment_variables": {},
   "exception": null,
   "input_path": "__notebook__.ipynb",
   "output_path": "__notebook__.ipynb",
   "parameters": {},
   "start_time": "2023-11-11T15:31:55.498088",
   "version": "2.4.0"
  }
 },
 "nbformat": 4,
 "nbformat_minor": 5
}
